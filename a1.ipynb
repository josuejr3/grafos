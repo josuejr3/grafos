{
 "cells": [
  {
   "cell_type": "code",
   "id": "initial_id",
   "metadata": {
    "collapsed": true,
    "ExecuteTime": {
     "end_time": "2025-02-13T02:54:35.861298Z",
     "start_time": "2025-02-13T02:54:35.067860Z"
    }
   },
   "source": "import networkx as nx",
   "outputs": [],
   "execution_count": 1
  },
  {
   "metadata": {
    "ExecuteTime": {
     "end_time": "2025-02-13T02:54:36.033093Z",
     "start_time": "2025-02-13T02:54:36.026990Z"
    }
   },
   "cell_type": "code",
   "source": [
    "g = nx.Graph()\n",
    "print(g)"
   ],
   "id": "1fc59898f4a85b8",
   "outputs": [
    {
     "name": "stdout",
     "output_type": "stream",
     "text": [
      "Graph with 0 nodes and 0 edges\n"
     ]
    }
   ],
   "execution_count": 2
  },
  {
   "metadata": {
    "ExecuteTime": {
     "end_time": "2025-02-13T02:55:08.550859Z",
     "start_time": "2025-02-13T02:55:08.544537Z"
    }
   },
   "cell_type": "code",
   "source": [
    "g.add_node(\"A\")\n",
    "print(g)"
   ],
   "id": "7275dbcce0583b41",
   "outputs": [
    {
     "name": "stdout",
     "output_type": "stream",
     "text": [
      "Graph with 1 nodes and 0 edges\n"
     ]
    }
   ],
   "execution_count": 3
  },
  {
   "metadata": {},
   "cell_type": "markdown",
   "source": [
    "Se quando eu estiver fazendo arestas no networkx eu não passar os vértices\n",
    "Eu devo passar as coordenadas e ele cria automatico os vértices."
   ],
   "id": "3b026c6c5ff9ba11"
  },
  {
   "metadata": {
    "ExecuteTime": {
     "end_time": "2025-02-13T03:00:37.703404Z",
     "start_time": "2025-02-13T03:00:37.699106Z"
    }
   },
   "cell_type": "code",
   "source": [
    "g.add_node(\"B\")\n",
    "g.add_node(\"C\")\n",
    "print(g)"
   ],
   "id": "d1dbc7e26cc514b8",
   "outputs": [
    {
     "name": "stdout",
     "output_type": "stream",
     "text": [
      "Graph with 3 nodes and 1 edges\n"
     ]
    }
   ],
   "execution_count": 12
  },
  {
   "metadata": {
    "ExecuteTime": {
     "end_time": "2025-02-13T03:00:39.491211Z",
     "start_time": "2025-02-13T03:00:39.485178Z"
    }
   },
   "cell_type": "code",
   "source": [
    "g.add_edge(\"A\", \"B\")\n",
    "print(g)\n",
    "print(g.nodes)\n",
    "print(g.edges)"
   ],
   "id": "3e5508508c7c4bf7",
   "outputs": [
    {
     "name": "stdout",
     "output_type": "stream",
     "text": [
      "Graph with 3 nodes and 1 edges\n",
      "['A', 'B', 'C']\n",
      "[('A', 'B')]\n"
     ]
    }
   ],
   "execution_count": 13
  }
 ],
 "metadata": {
  "kernelspec": {
   "display_name": "Python 3",
   "language": "python",
   "name": "python3"
  },
  "language_info": {
   "codemirror_mode": {
    "name": "ipython",
    "version": 2
   },
   "file_extension": ".py",
   "mimetype": "text/x-python",
   "name": "python",
   "nbconvert_exporter": "python",
   "pygments_lexer": "ipython2",
   "version": "2.7.6"
  }
 },
 "nbformat": 4,
 "nbformat_minor": 5
}
