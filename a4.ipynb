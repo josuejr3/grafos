{
 "cells": [
  {
   "cell_type": "code",
   "id": "initial_id",
   "metadata": {
    "collapsed": true,
    "ExecuteTime": {
     "end_time": "2025-02-13T03:52:42.328618Z",
     "start_time": "2025-02-13T03:52:42.323960Z"
    }
   },
   "source": [
    "# Acessando e manipulando atributos individuais em Python - NetworkX\n",
    "import networkx as nx"
   ],
   "outputs": [],
   "execution_count": 2
  },
  {
   "metadata": {
    "ExecuteTime": {
     "end_time": "2025-02-13T04:13:15.418257Z",
     "start_time": "2025-02-13T04:13:15.414499Z"
    }
   },
   "cell_type": "code",
   "source": [
    "g = nx.Graph()\n",
    "g.add_node('A', tipo=\"Letra\", cor=\"Azul\")\n",
    "g.add_node('B', tipo=\"Letra\")\n",
    "g.add_node('3', tipo=\"Numero\")\n",
    "g.add_node('4', tipo=\"Numero\")"
   ],
   "id": "8ff4a6139ebac0b6",
   "outputs": [],
   "execution_count": 27
  },
  {
   "metadata": {
    "ExecuteTime": {
     "end_time": "2025-02-13T04:13:17.016871Z",
     "start_time": "2025-02-13T04:13:17.012449Z"
    }
   },
   "cell_type": "code",
   "source": [
    "g.add_edge('A', '3', peso=5)\n",
    "print(g)\n",
    "print(g.nodes.data())\n",
    "print(g.edges.data())\n",
    "\n",
    "print(g.has_edge('A', '3'))"
   ],
   "id": "bd7f6dfe4531329",
   "outputs": [
    {
     "name": "stdout",
     "output_type": "stream",
     "text": [
      "Graph with 4 nodes and 1 edges\n",
      "[('A', {'tipo': 'Letra', 'cor': 'Azul'}), ('B', {'tipo': 'Letra'}), ('3', {'tipo': 'Numero'}), ('4', {'tipo': 'Numero'})]\n",
      "[('A', '3', {'peso': 5})]\n",
      "True\n"
     ]
    }
   ],
   "execution_count": 28
  },
  {
   "metadata": {
    "ExecuteTime": {
     "end_time": "2025-02-13T04:13:20.797607Z",
     "start_time": "2025-02-13T04:13:20.792551Z"
    }
   },
   "cell_type": "code",
   "source": [
    "g.nodes['A']['tipo'] = \"LETRA\"\n",
    "print(g.nodes.data())\n",
    "print(\"O atributo do tipo do vértice A é \" + g.nodes['A']['tipo'])"
   ],
   "id": "fb8d1f1701dbec88",
   "outputs": [
    {
     "name": "stdout",
     "output_type": "stream",
     "text": [
      "[('A', {'tipo': 'LETRA', 'cor': 'Azul'}), ('B', {'tipo': 'Letra'}), ('3', {'tipo': 'Numero'}), ('4', {'tipo': 'Numero'})]\n",
      "O atributo do tipo do vértice A é LETRA\n"
     ]
    }
   ],
   "execution_count": 29
  },
  {
   "metadata": {},
   "cell_type": "markdown",
   "source": "A chamada: g.nodes aparenta ser uma lista, porém é um objeto da classe NodeView",
   "id": "adb1bab9d4ccfc5e"
  },
  {
   "metadata": {},
   "cell_type": "markdown",
   "source": "O problema de obter um atriuto individualizado dessa forma ou de modificar é que, caso o atributo não existe, por exemplo",
   "id": "4ce8bf4a91fabb6b"
  },
  {
   "metadata": {},
   "cell_type": "code",
   "outputs": [],
   "execution_count": null,
   "source": "#g.nodes['A']['valor'] = \"?\"",
   "id": "b64ff54d1db34e2b"
  },
  {
   "metadata": {},
   "cell_type": "markdown",
   "source": "A instância cria o atributo e insere o valor",
   "id": "fed29646a917674e"
  },
  {
   "metadata": {
    "ExecuteTime": {
     "end_time": "2025-02-13T04:15:31.593161Z",
     "start_time": "2025-02-13T04:15:31.587197Z"
    }
   },
   "cell_type": "code",
   "source": [
    "# acessando aresta\n",
    "g.edges['A', '3'][\"peso\"] = 10\n",
    "print(\"O peso da aresta A-3: \" + str(g.edges['A', '3'][\"peso\"]))"
   ],
   "id": "ea97586fe04193c0",
   "outputs": [
    {
     "name": "stdout",
     "output_type": "stream",
     "text": [
      "O peso da aresta A-3: 10\n"
     ]
    }
   ],
   "execution_count": 34
  }
 ],
 "metadata": {
  "kernelspec": {
   "display_name": "Python 3",
   "language": "python",
   "name": "python3"
  },
  "language_info": {
   "codemirror_mode": {
    "name": "ipython",
    "version": 2
   },
   "file_extension": ".py",
   "mimetype": "text/x-python",
   "name": "python",
   "nbconvert_exporter": "python",
   "pygments_lexer": "ipython2",
   "version": "2.7.6"
  }
 },
 "nbformat": 4,
 "nbformat_minor": 5
}
