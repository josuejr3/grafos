{
 "cells": [
  {
   "metadata": {},
   "cell_type": "markdown",
   "source": [
    "Centralidade de Intermediação\n",
    "\n",
    "- Identificação da relevância de um vértice para intermediar a comunicação entre pontos\n",
    "- O quão central é um dado vértice num contexto da rede para comuniação entre os vértices na rede\n",
    "\n",
    "A centralidade de intermediação é uma função de vértice\n",
    "\n",
    "Centralidade (V) = somatório com fonte, diferente de V e diferente também do alvo, porém todos vertices (multiplicado) pelos menores caminhos de FONTE-ALVO em que V está incluido dividido por todos os menores caminhos possíveis.\n"
   ],
   "id": "aaf9dfd8f0f07e7b"
  },
  {
   "metadata": {
    "ExecuteTime": {
     "end_time": "2025-02-13T23:07:46.178455Z",
     "start_time": "2025-02-13T23:07:46.171513Z"
    }
   },
   "cell_type": "code",
   "source": [
    "import networkx as nx\n",
    "from matplotlib import pyplot as plt\n",
    "\n",
    "g = nx.Graph()\n",
    "lado1 = ['A1', 'A2', 'A3', 'A4']\n",
    "lado2 = ['B1', 'B2', 'B3']\n",
    "meio = ['C']\n",
    "arestas = [('A1', 'C'), ('A2', 'C'), ('A3', 'C'), ('A4', 'C'), ('B1', 'C'), ('B2', 'C'), ('B3', 'C')]\n",
    "\n",
    "g.add_nodes_from(lado1)\n",
    "g.add_nodes_from(lado2)\n",
    "g.add_nodes_from(meio)\n",
    "g.add_edges_from(arestas)\n",
    "print(nx.betweenness_centrality(g))"
   ],
   "id": "22fc3e7359deb056",
   "outputs": [
    {
     "name": "stdout",
     "output_type": "stream",
     "text": [
      "{'A1': 0.0, 'A2': 0.0, 'A3': 0.0, 'A4': 0.0, 'B1': 0.0, 'B2': 0.0, 'B3': 0.0, 'C': 1.0}\n"
     ]
    }
   ],
   "execution_count": 17
  },
  {
   "metadata": {},
   "cell_type": "markdown",
   "source": [
    "Coeficiente de agrupamento ou coeficiente de clusterização é uma forma de verificar se em um determinado grafo que possui arestas de vértices conectados se um vértice Conectado a A e outro também conectado a A estão possivelmente interligados.\n",
    "\n",
    "- Para isso, usamos uma fórmula abaixo\n",
    "\n",
    "C = (2T(u)) / deg(u)(deg(u)-1)  - (Coeficiente de agrupamento local=vertice por vertice)\n",
    "\n",
    "- T é a quantidade de triângulos em que u está inserido.\n",
    "\n",
    "- Para obtero coeficiente de agrupamento médio basta dividir o somatorio dos coeficientes de cada vértice pela quantidade de vértices."
   ],
   "id": "2e458a83a15eb92"
  },
  {
   "metadata": {
    "ExecuteTime": {
     "end_time": "2025-02-14T00:07:25.019295Z",
     "start_time": "2025-02-14T00:07:24.951672Z"
    }
   },
   "cell_type": "code",
   "source": [
    "g2 = nx.Graph()\n",
    "g2.add_edge('A', 'B')\n",
    "g2.add_edge('A', 'C')\n",
    "g2.add_edge('B', 'C')\n",
    "g2.add_edge('B', 'D')\n",
    "nx.draw_networkx(g2, node_color='#008080', with_labels=True, font_color='white')\n",
    "plt.show()\n",
    "print(g2)\n",
    "\n",
    "coeficiente_local = nx.clustering(g2)\n",
    "print(coeficiente_local)\n",
    "print(nx.average_clustering(g2))"
   ],
   "id": "b5a9d30e8366728c",
   "outputs": [
    {
     "data": {
      "text/plain": [
       "<Figure size 640x480 with 1 Axes>"
      ],
      "image/png": "[encoded data removed]"
     },
     "metadata": {},
     "output_type": "display_data"
    },
    {
     "name": "stdout",
     "output_type": "stream",
     "text": [
      "Graph with 4 nodes and 4 edges\n",
      "{'A': 1.0, 'B': 0.3333333333333333, 'C': 1.0, 'D': 0}\n",
      "0.5833333333333334\n"
     ]
    }
   ],
   "execution_count": 34
  }
 ],
 "metadata": {
  "kernelspec": {
   "display_name": "Python 3",
   "language": "python",
   "name": "python3"
  },
  "language_info": {
   "codemirror_mode": {
    "name": "ipython",
    "version": 2
   },
   "file_extension": ".py",
   "mimetype": "text/x-python",
   "name": "python",
   "nbconvert_exporter": "python",
   "pygments_lexer": "ipython2",
   "version": "2.7.6"
  }
 },
 "nbformat": 4,
 "nbformat_minor": 5
}
