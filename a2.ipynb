{
 "cells": [
  {
   "cell_type": "code",
   "id": "initial_id",
   "metadata": {
    "collapsed": true,
    "ExecuteTime": {
     "end_time": "2025-02-13T03:05:09.909558Z",
     "start_time": "2025-02-13T03:05:09.577069Z"
    }
   },
   "source": "import networkx as nx",
   "outputs": [],
   "execution_count": 2
  },
  {
   "metadata": {
    "ExecuteTime": {
     "end_time": "2025-02-13T03:11:19.401611Z",
     "start_time": "2025-02-13T03:11:19.396539Z"
    }
   },
   "cell_type": "code",
   "source": [
    "g = nx.DiGraph()\n",
    "g.add_node('A')\n",
    "g.add_node('B')\n",
    "g.add_node('C')\n",
    "g.add_edge('A', 'B')\n",
    "print(g)\n",
    "print(g.nodes)\n",
    "print(g.edges)"
   ],
   "id": "a102ccac78888c61",
   "outputs": [
    {
     "name": "stdout",
     "output_type": "stream",
     "text": [
      "DiGraph with 3 nodes and 1 edges\n",
      "['A', 'B', 'C']\n",
      "[('A', 'B')]\n"
     ]
    }
   ],
   "execution_count": 12
  },
  {
   "metadata": {
    "ExecuteTime": {
     "end_time": "2025-02-13T03:11:46.176154Z",
     "start_time": "2025-02-13T03:11:46.170986Z"
    }
   },
   "cell_type": "code",
   "source": [
    "# Verifica se é um nó no grafo\n",
    "print(g.has_node('A'))\n",
    "# Verifica se é uma aresta\n",
    "print(g.has_edge('B', 'A'))"
   ],
   "id": "1ec5afc7be12589c",
   "outputs": [
    {
     "name": "stdout",
     "output_type": "stream",
     "text": [
      "True\n",
      "False\n"
     ]
    }
   ],
   "execution_count": 14
  },
  {
   "metadata": {},
   "cell_type": "markdown",
   "source": "- Arco é diferente de laço, o laço sai e retorna para o mesmo vértice. Já um arco é uma aresta direcionada que sai de um vértice para outro em uma direção, porém não volta.",
   "id": "6572613483555574"
  }
 ],
 "metadata": {
  "kernelspec": {
   "display_name": "Python 3",
   "language": "python",
   "name": "python3"
  },
  "language_info": {
   "codemirror_mode": {
    "name": "ipython",
    "version": 2
   },
   "file_extension": ".py",
   "mimetype": "text/x-python",
   "name": "python",
   "nbconvert_exporter": "python",
   "pygments_lexer": "ipython2",
   "version": "2.7.6"
  }
 },
 "nbformat": 4,
 "nbformat_minor": 5
}
