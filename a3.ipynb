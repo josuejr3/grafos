{
 "cells": [
  {
   "metadata": {},
   "cell_type": "markdown",
   "source": "Como colocar atributos no nosso grafo",
   "id": "e2c94370179ada8b"
  },
  {
   "metadata": {
    "ExecuteTime": {
     "end_time": "2025-02-13T03:42:20.712460Z",
     "start_time": "2025-02-13T03:42:20.706622Z"
    }
   },
   "cell_type": "code",
   "source": [
    "import networkx as nx\n",
    "\n",
    "# Adicionando atributo tipo\n",
    "\n",
    "g = nx.Graph()\n",
    "g.add_node('A', tipo=\"Letra\", cor=\"azul\")\n",
    "g.add_node('B', tipo=\"Letra\")\n",
    "g.add_node(\"3\", tipo=\"Numero\")\n",
    "g.add_node('4', tipo=\"Numero\")\n",
    "g.add_edge('A', \"3\", peso=5)\n",
    "\n",
    "# print(g)\n",
    "# print(g.nodes)\n",
    "# print(g.edges)\n",
    "# print(g.has_edge('A', '3'))"
   ],
   "id": "93b619d3d3251c2f",
   "outputs": [],
   "execution_count": 9
  },
  {
   "metadata": {},
   "cell_type": "markdown",
   "source": [
    "Para adicionar qualquer atributo que eu queira, basta passar como parâmetro nomeado\n",
    "como exemplo, no código acima nós usamos \"tipo\"\n"
   ],
   "id": "75762d1606f5a92e"
  },
  {
   "metadata": {
    "ExecuteTime": {
     "end_time": "2025-02-13T03:42:22.818536Z",
     "start_time": "2025-02-13T03:42:22.813805Z"
    }
   },
   "cell_type": "code",
   "source": [
    "print(g)\n",
    "print(g.nodes.data())\n",
    "print(g.edges.data())\n",
    "print(g.has_edge('A', '3'))"
   ],
   "id": "7535229a8c00fd4e",
   "outputs": [
    {
     "name": "stdout",
     "output_type": "stream",
     "text": [
      "Graph with 4 nodes and 1 edges\n",
      "[('A', {'tipo': 'Letra', 'cor': 'azul'}), ('B', {'tipo': 'Letra'}), ('3', {'tipo': 'Numero'}), ('4', {'tipo': 'Numero'})]\n",
      "[('A', '3', {'peso': 5})]\n",
      "True\n"
     ]
    }
   ],
   "execution_count": 10
  },
  {
   "metadata": {
    "ExecuteTime": {
     "end_time": "2025-02-13T03:49:49.168614Z",
     "start_time": "2025-02-13T03:49:49.164084Z"
    }
   },
   "cell_type": "code",
   "source": "",
   "id": "64e4188303cbbb6d",
   "outputs": [
    {
     "name": "stdout",
     "output_type": "stream",
     "text": [
      "['A', {'tipo': 'Letra', 'cor': 'azul'}]\n"
     ]
    }
   ],
   "execution_count": 19
  }
 ],
 "metadata": {
  "kernelspec": {
   "display_name": "Python 3",
   "language": "python",
   "name": "python3"
  },
  "language_info": {
   "codemirror_mode": {
    "name": "ipython",
    "version": 2
   },
   "file_extension": ".py",
   "mimetype": "text/x-python",
   "name": "python",
   "nbconvert_exporter": "python",
   "pygments_lexer": "ipython2",
   "version": "2.7.6"
  }
 },
 "nbformat": 4,
 "nbformat_minor": 5
}
